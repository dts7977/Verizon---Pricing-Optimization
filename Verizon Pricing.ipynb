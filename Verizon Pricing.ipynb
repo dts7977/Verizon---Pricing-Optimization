{
 "cells": [
  {
   "cell_type": "code",
   "execution_count": 1,
   "id": "5013b4b5",
   "metadata": {},
   "outputs": [],
   "source": [
    "from pyomo.environ import *\n",
    "import numpy as np\n",
    "import pandas as pd"
   ]
  },
  {
   "cell_type": "code",
   "execution_count": 2,
   "id": "9d022ed8",
   "metadata": {},
   "outputs": [],
   "source": [
    "df = pd.read_excel('C://Users//kongl//Desktop//NYU Shanghai//Winter 2022//Optimization Modeling//Data & Excel Files/VerizonPricing_data.xls',sheet_name='Data',header=1)"
   ]
  },
  {
   "cell_type": "code",
   "execution_count": 3,
   "id": "ec24c87a",
   "metadata": {},
   "outputs": [],
   "source": [
    "v = df.drop(columns = \"Customer\")"
   ]
  },
  {
   "cell_type": "code",
   "execution_count": 4,
   "id": "89b82d22",
   "metadata": {},
   "outputs": [
    {
     "data": {
      "text/html": [
       "<div>\n",
       "<style scoped>\n",
       "    .dataframe tbody tr th:only-of-type {\n",
       "        vertical-align: middle;\n",
       "    }\n",
       "\n",
       "    .dataframe tbody tr th {\n",
       "        vertical-align: top;\n",
       "    }\n",
       "\n",
       "    .dataframe thead th {\n",
       "        text-align: right;\n",
       "    }\n",
       "</style>\n",
       "<table border=\"1\" class=\"dataframe\">\n",
       "  <thead>\n",
       "    <tr style=\"text-align: right;\">\n",
       "      <th></th>\n",
       "      <th>Internet</th>\n",
       "      <th>TV</th>\n",
       "      <th>Cell Phone</th>\n",
       "    </tr>\n",
       "  </thead>\n",
       "  <tbody>\n",
       "    <tr>\n",
       "      <th>0</th>\n",
       "      <td>5.25</td>\n",
       "      <td>10.5</td>\n",
       "      <td>5.250</td>\n",
       "    </tr>\n",
       "    <tr>\n",
       "      <th>1</th>\n",
       "      <td>26.25</td>\n",
       "      <td>52.5</td>\n",
       "      <td>5.250</td>\n",
       "    </tr>\n",
       "    <tr>\n",
       "      <th>2</th>\n",
       "      <td>42.00</td>\n",
       "      <td>42.0</td>\n",
       "      <td>73.500</td>\n",
       "    </tr>\n",
       "    <tr>\n",
       "      <th>3</th>\n",
       "      <td>105.00</td>\n",
       "      <td>105.0</td>\n",
       "      <td>0.000</td>\n",
       "    </tr>\n",
       "    <tr>\n",
       "      <th>4</th>\n",
       "      <td>0.00</td>\n",
       "      <td>10.5</td>\n",
       "      <td>21.000</td>\n",
       "    </tr>\n",
       "    <tr>\n",
       "      <th>...</th>\n",
       "      <td>...</td>\n",
       "      <td>...</td>\n",
       "      <td>...</td>\n",
       "    </tr>\n",
       "    <tr>\n",
       "      <th>72</th>\n",
       "      <td>0.00</td>\n",
       "      <td>10.5</td>\n",
       "      <td>0.000</td>\n",
       "    </tr>\n",
       "    <tr>\n",
       "      <th>73</th>\n",
       "      <td>52.50</td>\n",
       "      <td>52.5</td>\n",
       "      <td>84.000</td>\n",
       "    </tr>\n",
       "    <tr>\n",
       "      <th>74</th>\n",
       "      <td>31.50</td>\n",
       "      <td>42.0</td>\n",
       "      <td>42.000</td>\n",
       "    </tr>\n",
       "    <tr>\n",
       "      <th>75</th>\n",
       "      <td>0.00</td>\n",
       "      <td>63.0</td>\n",
       "      <td>10.500</td>\n",
       "    </tr>\n",
       "    <tr>\n",
       "      <th>76</th>\n",
       "      <td>52.50</td>\n",
       "      <td>52.5</td>\n",
       "      <td>2.625</td>\n",
       "    </tr>\n",
       "  </tbody>\n",
       "</table>\n",
       "<p>77 rows × 3 columns</p>\n",
       "</div>"
      ],
      "text/plain": [
       "    Internet     TV  Cell Phone\n",
       "0       5.25   10.5       5.250\n",
       "1      26.25   52.5       5.250\n",
       "2      42.00   42.0      73.500\n",
       "3     105.00  105.0       0.000\n",
       "4       0.00   10.5      21.000\n",
       "..       ...    ...         ...\n",
       "72      0.00   10.5       0.000\n",
       "73     52.50   52.5      84.000\n",
       "74     31.50   42.0      42.000\n",
       "75      0.00   63.0      10.500\n",
       "76     52.50   52.5       2.625\n",
       "\n",
       "[77 rows x 3 columns]"
      ]
     },
     "execution_count": 4,
     "metadata": {},
     "output_type": "execute_result"
    }
   ],
   "source": [
    "v"
   ]
  },
  {
   "cell_type": "markdown",
   "id": "63256fff",
   "metadata": {},
   "source": [
    "# No Bundling Strategy"
   ]
  },
  {
   "cell_type": "code",
   "execution_count": 5,
   "id": "6b4ff401",
   "metadata": {},
   "outputs": [],
   "source": [
    "Price = range(3)\n",
    "Bundle = range(3)\n",
    "Customer = range(77)"
   ]
  },
  {
   "cell_type": "code",
   "execution_count": 6,
   "id": "b320e7a4",
   "metadata": {},
   "outputs": [],
   "source": [
    "model = ConcreteModel()\n",
    "model.p = Var(Price, within=NonNegativeReals)\n",
    "model.x = Var(Customer, Bundle, within=Binary)\n",
    "model.z = Var(Customer, Bundle, within=NonNegativeReals)"
   ]
  },
  {
   "cell_type": "code",
   "execution_count": 7,
   "id": "25a24541",
   "metadata": {},
   "outputs": [],
   "source": [
    "model.obj = Objective(\n",
    "    expr = sum(model.z[i,k] for i in Customer for k in Bundle), \n",
    "    sense = maximize)"
   ]
  },
  {
   "cell_type": "code",
   "execution_count": 8,
   "id": "fd458079",
   "metadata": {},
   "outputs": [],
   "source": [
    "def no_negative_decision_rule(model,i):\n",
    "    return sum(v.iloc[i,k]*model.x[i,k]-model.z[i,k] for k in Bundle) >= 0\n",
    "\n",
    "model.no_negative_decision_con = Constraint(Customer, rule=no_negative_decision_rule)"
   ]
  },
  {
   "cell_type": "code",
   "execution_count": 9,
   "id": "91141adb",
   "metadata": {},
   "outputs": [],
   "source": [
    "def optimal_decision_rule(model,i,j):\n",
    "    return sum(v.iloc[i,k]*model.x[i,k]-model.z[i,k] for k in Bundle) >= v.iloc[i,j] - model.p[j]\n",
    "\n",
    "model.optimal_decision_con = Constraint(Customer, Bundle, rule=optimal_decision_rule)"
   ]
  },
  {
   "cell_type": "code",
   "execution_count": 10,
   "id": "78f09c32",
   "metadata": {},
   "outputs": [],
   "source": [
    "def z_zero_rule(model,i,k):\n",
    "    return model.z[i,k] >= 0\n",
    "\n",
    "model.z_zero_con = Constraint(Customer, Bundle, rule=z_zero_rule)"
   ]
  },
  {
   "cell_type": "code",
   "execution_count": 11,
   "id": "374c7ea4",
   "metadata": {},
   "outputs": [],
   "source": [
    "def z_price_rule(model,i,k):\n",
    "    return model.z[i,k] <= model.p[k]\n",
    "model.z_price_con = Constraint(Customer, Bundle, rule=z_price_rule)"
   ]
  },
  {
   "cell_type": "code",
   "execution_count": 12,
   "id": "cf336e35",
   "metadata": {},
   "outputs": [],
   "source": [
    "def z_upper_rule(model,i,k):\n",
    "    return model.z[i,k] <= 10000*model.x[i,k]\n",
    "\n",
    "model.z_upper_con = Constraint(Customer, Bundle, rule=z_upper_rule)"
   ]
  },
  {
   "cell_type": "code",
   "execution_count": 13,
   "id": "1dd12a2a",
   "metadata": {},
   "outputs": [],
   "source": [
    "def z_lower_rule(model,i,k):\n",
    "    return model.z[i,k] >= model.p[k] - 10000*(1-model.x[i,k])\n",
    "\n",
    "model.z_lower_con = Constraint(Customer, Bundle, rule=z_lower_rule)"
   ]
  },
  {
   "cell_type": "code",
   "execution_count": 14,
   "id": "9ae6dcf3",
   "metadata": {},
   "outputs": [],
   "source": [
    "def each_customer_rule(model,i):\n",
    "    return sum(model.x[i,k] for k in Bundle) <= 3\n",
    "\n",
    "model.each_customer_con = Constraint(Customer, rule=each_customer_rule)"
   ]
  },
  {
   "cell_type": "code",
   "execution_count": 15,
   "id": "e655a079",
   "metadata": {},
   "outputs": [],
   "source": [
    "opt = SolverFactory('gurobi', solver_io=\"python\").solve(model)"
   ]
  },
  {
   "cell_type": "code",
   "execution_count": 16,
   "id": "dce5b61a",
   "metadata": {},
   "outputs": [],
   "source": [
    "df_no = pd.DataFrame()\n",
    "df_no['Internet'] = v['Internet']\n",
    "df_no['TV'] = v['TV']\n",
    "df_no['Cell Phone'] = v['Cell Phone']"
   ]
  },
  {
   "cell_type": "code",
   "execution_count": 17,
   "id": "d9524814",
   "metadata": {},
   "outputs": [],
   "source": [
    "for k in range(3):    \n",
    "    df_no.iloc[:,k] = [value(model.x[i,k]) for i in Customer]"
   ]
  },
  {
   "cell_type": "code",
   "execution_count": 18,
   "id": "3c3e707c",
   "metadata": {},
   "outputs": [
    {
     "name": "stdout",
     "output_type": "stream",
     "text": [
      "The optimal prices for no bundling strategy are as following:\n",
      "The optimal price for Internet is $30.975.\n",
      "The optimal price for TV is $51.975.\n",
      "The optimal price for Cell Phone is $51.975.\n",
      "\n",
      "With this price setting, we have:\n",
      "46 customers purchase Internet.\n",
      "50 customers purchase TV.\n",
      "27 customers purchase Cell Phone.\n",
      "The maximized revenue would be $5426.925.\n"
     ]
    }
   ],
   "source": [
    "print(\"The optimal prices for no bundling strategy are as following:\")\n",
    "for k in range(3):\n",
    "    print(\"The optimal price for {} is ${:.3f}.\".format(v.columns[k],value(model.p[k])))\n",
    "print(\"\\nWith this price setting, we have:\")\n",
    "for k in range(3):\n",
    "    print(\"{} customers purchase {}.\".format(sum(df_no.iloc[:,k] == 1),df_no.columns[k]))    \n",
    "print(\"The maximized revenue would be ${:.3f}.\".format(value(model.obj)))"
   ]
  },
  {
   "cell_type": "markdown",
   "id": "a7b0ce1a",
   "metadata": {},
   "source": [
    "# Mixed Bundling Strategy"
   ]
  },
  {
   "cell_type": "code",
   "execution_count": 19,
   "id": "78352f8a",
   "metadata": {},
   "outputs": [],
   "source": [
    "v_mix = pd.DataFrame()\n",
    "v_mix['Internet'] = v['Internet']\n",
    "v_mix['TV'] = v['TV']\n",
    "v_mix['Cell Phone'] = v['Cell Phone']\n",
    "v_mix[\"Internet and TV\"] = v_mix[\"Internet\"] + v_mix[\"TV\"]\n",
    "v_mix[\"Internet and Cell Phone\"] = v_mix[\"Internet\"] + v_mix[\"Cell Phone\"]\n",
    "v_mix[\"TV and Cell Phone\"] = v_mix[\"TV\"] + v_mix[\"Cell Phone\"]\n",
    "v_mix[\"TV,Cell Phone,and Internet\"] = v_mix[\"TV\"] + v_mix[\"Cell Phone\"] + v_mix[\"TV\"]"
   ]
  },
  {
   "cell_type": "code",
   "execution_count": 20,
   "id": "1c0bb9a1",
   "metadata": {},
   "outputs": [
    {
     "data": {
      "text/html": [
       "<div>\n",
       "<style scoped>\n",
       "    .dataframe tbody tr th:only-of-type {\n",
       "        vertical-align: middle;\n",
       "    }\n",
       "\n",
       "    .dataframe tbody tr th {\n",
       "        vertical-align: top;\n",
       "    }\n",
       "\n",
       "    .dataframe thead th {\n",
       "        text-align: right;\n",
       "    }\n",
       "</style>\n",
       "<table border=\"1\" class=\"dataframe\">\n",
       "  <thead>\n",
       "    <tr style=\"text-align: right;\">\n",
       "      <th></th>\n",
       "      <th>Internet</th>\n",
       "      <th>TV</th>\n",
       "      <th>Cell Phone</th>\n",
       "      <th>Internet and TV</th>\n",
       "      <th>Internet and Cell Phone</th>\n",
       "      <th>TV and Cell Phone</th>\n",
       "      <th>TV,Cell Phone,and Internet</th>\n",
       "    </tr>\n",
       "  </thead>\n",
       "  <tbody>\n",
       "    <tr>\n",
       "      <th>0</th>\n",
       "      <td>5.25</td>\n",
       "      <td>10.5</td>\n",
       "      <td>5.250</td>\n",
       "      <td>15.75</td>\n",
       "      <td>10.500</td>\n",
       "      <td>15.750</td>\n",
       "      <td>26.250</td>\n",
       "    </tr>\n",
       "    <tr>\n",
       "      <th>1</th>\n",
       "      <td>26.25</td>\n",
       "      <td>52.5</td>\n",
       "      <td>5.250</td>\n",
       "      <td>78.75</td>\n",
       "      <td>31.500</td>\n",
       "      <td>57.750</td>\n",
       "      <td>110.250</td>\n",
       "    </tr>\n",
       "    <tr>\n",
       "      <th>2</th>\n",
       "      <td>42.00</td>\n",
       "      <td>42.0</td>\n",
       "      <td>73.500</td>\n",
       "      <td>84.00</td>\n",
       "      <td>115.500</td>\n",
       "      <td>115.500</td>\n",
       "      <td>157.500</td>\n",
       "    </tr>\n",
       "    <tr>\n",
       "      <th>3</th>\n",
       "      <td>105.00</td>\n",
       "      <td>105.0</td>\n",
       "      <td>0.000</td>\n",
       "      <td>210.00</td>\n",
       "      <td>105.000</td>\n",
       "      <td>105.000</td>\n",
       "      <td>210.000</td>\n",
       "    </tr>\n",
       "    <tr>\n",
       "      <th>4</th>\n",
       "      <td>0.00</td>\n",
       "      <td>10.5</td>\n",
       "      <td>21.000</td>\n",
       "      <td>10.50</td>\n",
       "      <td>21.000</td>\n",
       "      <td>31.500</td>\n",
       "      <td>42.000</td>\n",
       "    </tr>\n",
       "    <tr>\n",
       "      <th>...</th>\n",
       "      <td>...</td>\n",
       "      <td>...</td>\n",
       "      <td>...</td>\n",
       "      <td>...</td>\n",
       "      <td>...</td>\n",
       "      <td>...</td>\n",
       "      <td>...</td>\n",
       "    </tr>\n",
       "    <tr>\n",
       "      <th>72</th>\n",
       "      <td>0.00</td>\n",
       "      <td>10.5</td>\n",
       "      <td>0.000</td>\n",
       "      <td>10.50</td>\n",
       "      <td>0.000</td>\n",
       "      <td>10.500</td>\n",
       "      <td>21.000</td>\n",
       "    </tr>\n",
       "    <tr>\n",
       "      <th>73</th>\n",
       "      <td>52.50</td>\n",
       "      <td>52.5</td>\n",
       "      <td>84.000</td>\n",
       "      <td>105.00</td>\n",
       "      <td>136.500</td>\n",
       "      <td>136.500</td>\n",
       "      <td>189.000</td>\n",
       "    </tr>\n",
       "    <tr>\n",
       "      <th>74</th>\n",
       "      <td>31.50</td>\n",
       "      <td>42.0</td>\n",
       "      <td>42.000</td>\n",
       "      <td>73.50</td>\n",
       "      <td>73.500</td>\n",
       "      <td>84.000</td>\n",
       "      <td>126.000</td>\n",
       "    </tr>\n",
       "    <tr>\n",
       "      <th>75</th>\n",
       "      <td>0.00</td>\n",
       "      <td>63.0</td>\n",
       "      <td>10.500</td>\n",
       "      <td>63.00</td>\n",
       "      <td>10.500</td>\n",
       "      <td>73.500</td>\n",
       "      <td>136.500</td>\n",
       "    </tr>\n",
       "    <tr>\n",
       "      <th>76</th>\n",
       "      <td>52.50</td>\n",
       "      <td>52.5</td>\n",
       "      <td>2.625</td>\n",
       "      <td>105.00</td>\n",
       "      <td>55.125</td>\n",
       "      <td>55.125</td>\n",
       "      <td>107.625</td>\n",
       "    </tr>\n",
       "  </tbody>\n",
       "</table>\n",
       "<p>77 rows × 7 columns</p>\n",
       "</div>"
      ],
      "text/plain": [
       "    Internet     TV  Cell Phone  Internet and TV  Internet and Cell Phone  \\\n",
       "0       5.25   10.5       5.250            15.75                   10.500   \n",
       "1      26.25   52.5       5.250            78.75                   31.500   \n",
       "2      42.00   42.0      73.500            84.00                  115.500   \n",
       "3     105.00  105.0       0.000           210.00                  105.000   \n",
       "4       0.00   10.5      21.000            10.50                   21.000   \n",
       "..       ...    ...         ...              ...                      ...   \n",
       "72      0.00   10.5       0.000            10.50                    0.000   \n",
       "73     52.50   52.5      84.000           105.00                  136.500   \n",
       "74     31.50   42.0      42.000            73.50                   73.500   \n",
       "75      0.00   63.0      10.500            63.00                   10.500   \n",
       "76     52.50   52.5       2.625           105.00                   55.125   \n",
       "\n",
       "    TV and Cell Phone  TV,Cell Phone,and Internet  \n",
       "0              15.750                      26.250  \n",
       "1              57.750                     110.250  \n",
       "2             115.500                     157.500  \n",
       "3             105.000                     210.000  \n",
       "4              31.500                      42.000  \n",
       "..                ...                         ...  \n",
       "72             10.500                      21.000  \n",
       "73            136.500                     189.000  \n",
       "74             84.000                     126.000  \n",
       "75             73.500                     136.500  \n",
       "76             55.125                     107.625  \n",
       "\n",
       "[77 rows x 7 columns]"
      ]
     },
     "execution_count": 20,
     "metadata": {},
     "output_type": "execute_result"
    }
   ],
   "source": [
    "v_mix"
   ]
  },
  {
   "cell_type": "code",
   "execution_count": 21,
   "id": "d56d2216",
   "metadata": {},
   "outputs": [],
   "source": [
    "Price = range(7)\n",
    "Bundle = range(7)\n",
    "Customer = range(77)"
   ]
  },
  {
   "cell_type": "code",
   "execution_count": 22,
   "id": "dcccae8b",
   "metadata": {},
   "outputs": [],
   "source": [
    "model2 = ConcreteModel()\n",
    "model2.p = Var(Price, within=NonNegativeReals)\n",
    "model2.x = Var(Customer, Bundle, within=Binary)\n",
    "model2.z = Var(Customer, Bundle, within=NonNegativeReals)"
   ]
  },
  {
   "cell_type": "code",
   "execution_count": 23,
   "id": "f21539c4",
   "metadata": {},
   "outputs": [],
   "source": [
    "model2.obj = Objective(\n",
    "    expr = sum(model2.z[i,k] for i in Customer for k in Bundle), \n",
    "    sense = maximize)"
   ]
  },
  {
   "cell_type": "code",
   "execution_count": 24,
   "id": "1cf86cb1",
   "metadata": {},
   "outputs": [],
   "source": [
    "def each_customer_rule2(model2,i):\n",
    "    return sum(model2.x[i,k] for k in Bundle) <= 1\n",
    "\n",
    "model2.each_customer_con = Constraint(Customer, rule=each_customer_rule2)"
   ]
  },
  {
   "cell_type": "code",
   "execution_count": 25,
   "id": "feaa4768",
   "metadata": {},
   "outputs": [],
   "source": [
    "def no_negative_decision_rule2(model2,i):\n",
    "    return sum(v_mix.iloc[i,k]*model2.x[i,k]-model2.z[i,k] for k in Bundle) >= 0\n",
    "\n",
    "model2.no_negative_decision_con = Constraint(Customer, rule=no_negative_decision_rule2)"
   ]
  },
  {
   "cell_type": "code",
   "execution_count": 26,
   "id": "ac8b3113",
   "metadata": {},
   "outputs": [],
   "source": [
    "def optimal_decision_rule2(model2,i,j):\n",
    "    return sum(v_mix.iloc[i,k]*model2.x[i,k]-model2.z[i,k] for k in Bundle) >= v_mix.iloc[i,j] - model2.p[j]\n",
    "\n",
    "model2.optimal_decision_con = Constraint(Customer, Bundle, rule=optimal_decision_rule2)"
   ]
  },
  {
   "cell_type": "code",
   "execution_count": 27,
   "id": "18fed1a9",
   "metadata": {},
   "outputs": [],
   "source": [
    "def z_zero_rule2(model2,i,k):\n",
    "    return model2.z[i,k] >= 0\n",
    "\n",
    "model2.z_zero_con = Constraint(Customer, Bundle, rule=z_zero_rule2)"
   ]
  },
  {
   "cell_type": "code",
   "execution_count": 28,
   "id": "9be3f319",
   "metadata": {},
   "outputs": [],
   "source": [
    "def z_price_rule2(model2,i,k):\n",
    "    return model2.z[i,k] <= model2.p[k]\n",
    "model2.z_price_con = Constraint(Customer, Bundle, rule=z_price_rule2)"
   ]
  },
  {
   "cell_type": "code",
   "execution_count": 29,
   "id": "0a193435",
   "metadata": {},
   "outputs": [],
   "source": [
    "def z_upper_rule2(model2,i,k):\n",
    "    return model2.z[i,k] <= 5000*model2.x[i,k]\n",
    "\n",
    "model2.z_upper_con = Constraint(Customer, Bundle, rule=z_upper_rule2)"
   ]
  },
  {
   "cell_type": "code",
   "execution_count": 30,
   "id": "c8bc4d4e",
   "metadata": {},
   "outputs": [],
   "source": [
    "def z_lower_rule2(model2,i,k):\n",
    "    return model2.z[i,k] >= model2.p[k] - 5000*(1-model2.x[i,k])\n",
    "\n",
    "model2.z_lower_con = Constraint(Customer, Bundle, rule=z_lower_rule2)"
   ]
  },
  {
   "cell_type": "code",
   "execution_count": 31,
   "id": "329cdc4d",
   "metadata": {},
   "outputs": [],
   "source": [
    "opt = SolverFactory('gurobi', solver_io=\"python\").solve(model2)"
   ]
  },
  {
   "cell_type": "code",
   "execution_count": 32,
   "id": "6e84cebc",
   "metadata": {},
   "outputs": [],
   "source": [
    "df_mix = pd.DataFrame()\n",
    "df_mix = v_mix.iloc[:,0:7]"
   ]
  },
  {
   "cell_type": "code",
   "execution_count": 33,
   "id": "4f19dae6",
   "metadata": {},
   "outputs": [],
   "source": [
    "for k in range(7):    \n",
    "    df_mix.iloc[:,k] = [value(model2.x[i,k]) for i in Customer]"
   ]
  },
  {
   "cell_type": "code",
   "execution_count": 34,
   "id": "c8602123",
   "metadata": {},
   "outputs": [
    {
     "name": "stdout",
     "output_type": "stream",
     "text": [
      "The optimal prices for mixed bundling strategy are as following:\n",
      "The optimal price for Internet is $31.500.\n",
      "The optimal price for TV is $52.500.\n",
      "The optimal price for Cell Phone is $42.000.\n",
      "The optimal price for Internet and TV is $94.500.\n",
      "The optimal price for Internet and Cell Phone is $84.000.\n",
      "The optimal price for TV and Cell Phone is $5000.000.\n",
      "The optimal price for TV,Cell Phone,and Internet is $120.750.\n",
      "\n",
      "With this price setting, we have:\n",
      "6 customers purchase Internet.\n",
      "5 customers purchase TV.\n",
      "1 customers purchase Cell Phone.\n",
      "2 customers purchase Internet and TV.\n",
      "3 customers purchase Internet and Cell Phone.\n",
      "0 customers purchase TV and Cell Phone.\n",
      "44 customers purchase TV,Cell Phone,and Internet.\n",
      "The maximized revenue would be $6247.500.\n"
     ]
    }
   ],
   "source": [
    "print(\"The optimal prices for mixed bundling strategy are as following:\")\n",
    "for k in range(7):\n",
    "    print(\"The optimal price for {} is ${:.3f}.\".format(v_mix.columns[k],value(model2.p[k])))\n",
    "print(\"\\nWith this price setting, we have:\")\n",
    "for k in range(7):\n",
    "    print(\"{} customers purchase {}.\".format(sum(df_mix.iloc[:,k] == 1),df_mix.columns[k]))\n",
    "print(\"The maximized revenue would be ${:.3f}.\".format(value(model2.obj)))"
   ]
  },
  {
   "cell_type": "markdown",
   "id": "e85788b9",
   "metadata": {},
   "source": [
    "# Pure Bundling Strategy"
   ]
  },
  {
   "cell_type": "code",
   "execution_count": 35,
   "id": "45978bf2",
   "metadata": {},
   "outputs": [],
   "source": [
    "v_pure = pd.DataFrame()\n",
    "v_pure[\"TV,Cell Phone,and Internet\"] = v_mix.loc[:,'TV,Cell Phone,and Internet']"
   ]
  },
  {
   "cell_type": "code",
   "execution_count": 36,
   "id": "9cb49eef",
   "metadata": {},
   "outputs": [
    {
     "data": {
      "text/html": [
       "<div>\n",
       "<style scoped>\n",
       "    .dataframe tbody tr th:only-of-type {\n",
       "        vertical-align: middle;\n",
       "    }\n",
       "\n",
       "    .dataframe tbody tr th {\n",
       "        vertical-align: top;\n",
       "    }\n",
       "\n",
       "    .dataframe thead th {\n",
       "        text-align: right;\n",
       "    }\n",
       "</style>\n",
       "<table border=\"1\" class=\"dataframe\">\n",
       "  <thead>\n",
       "    <tr style=\"text-align: right;\">\n",
       "      <th></th>\n",
       "      <th>TV,Cell Phone,and Internet</th>\n",
       "    </tr>\n",
       "  </thead>\n",
       "  <tbody>\n",
       "    <tr>\n",
       "      <th>0</th>\n",
       "      <td>26.250</td>\n",
       "    </tr>\n",
       "    <tr>\n",
       "      <th>1</th>\n",
       "      <td>110.250</td>\n",
       "    </tr>\n",
       "    <tr>\n",
       "      <th>2</th>\n",
       "      <td>157.500</td>\n",
       "    </tr>\n",
       "    <tr>\n",
       "      <th>3</th>\n",
       "      <td>210.000</td>\n",
       "    </tr>\n",
       "    <tr>\n",
       "      <th>4</th>\n",
       "      <td>42.000</td>\n",
       "    </tr>\n",
       "    <tr>\n",
       "      <th>...</th>\n",
       "      <td>...</td>\n",
       "    </tr>\n",
       "    <tr>\n",
       "      <th>72</th>\n",
       "      <td>21.000</td>\n",
       "    </tr>\n",
       "    <tr>\n",
       "      <th>73</th>\n",
       "      <td>189.000</td>\n",
       "    </tr>\n",
       "    <tr>\n",
       "      <th>74</th>\n",
       "      <td>126.000</td>\n",
       "    </tr>\n",
       "    <tr>\n",
       "      <th>75</th>\n",
       "      <td>136.500</td>\n",
       "    </tr>\n",
       "    <tr>\n",
       "      <th>76</th>\n",
       "      <td>107.625</td>\n",
       "    </tr>\n",
       "  </tbody>\n",
       "</table>\n",
       "<p>77 rows × 1 columns</p>\n",
       "</div>"
      ],
      "text/plain": [
       "    TV,Cell Phone,and Internet\n",
       "0                       26.250\n",
       "1                      110.250\n",
       "2                      157.500\n",
       "3                      210.000\n",
       "4                       42.000\n",
       "..                         ...\n",
       "72                      21.000\n",
       "73                     189.000\n",
       "74                     126.000\n",
       "75                     136.500\n",
       "76                     107.625\n",
       "\n",
       "[77 rows x 1 columns]"
      ]
     },
     "execution_count": 36,
     "metadata": {},
     "output_type": "execute_result"
    }
   ],
   "source": [
    "v_pure"
   ]
  },
  {
   "cell_type": "code",
   "execution_count": 37,
   "id": "a33bf9e7",
   "metadata": {},
   "outputs": [],
   "source": [
    "Price = range(1)\n",
    "Bundle = range(1)\n",
    "Customer = range(77)"
   ]
  },
  {
   "cell_type": "code",
   "execution_count": 38,
   "id": "7f6c633e",
   "metadata": {},
   "outputs": [],
   "source": [
    "model3 = ConcreteModel()\n",
    "model3.p = Var(Price, within=NonNegativeReals)\n",
    "model3.x = Var(Customer, Bundle, within=Binary)\n",
    "model3.z = Var(Customer, Bundle, within=NonNegativeReals)"
   ]
  },
  {
   "cell_type": "code",
   "execution_count": 39,
   "id": "99b415b2",
   "metadata": {},
   "outputs": [],
   "source": [
    "model3.obj = Objective(\n",
    "    expr = sum(model3.z[i,k] for i in Customer for k in Bundle), \n",
    "    sense = maximize)"
   ]
  },
  {
   "cell_type": "code",
   "execution_count": 40,
   "id": "c604fcac",
   "metadata": {},
   "outputs": [],
   "source": [
    "def no_negative_decision_rule3(model3,i):\n",
    "    return sum(v_pure.iloc[i,k]*model3.x[i,k]-model3.z[i,k] for k in Bundle) >= 0\n",
    "\n",
    "model3.no_negative_decision_con = Constraint(Customer, rule=no_negative_decision_rule3)"
   ]
  },
  {
   "cell_type": "code",
   "execution_count": 41,
   "id": "662c3782",
   "metadata": {},
   "outputs": [],
   "source": [
    "def optimal_decision_rule3(model3,i,j):\n",
    "    return sum(v_pure.iloc[i,k]*model3.x[i,k]-model3.z[i,k] for k in Bundle) >= v_pure.iloc[i,j] - model3.p[j]\n",
    "\n",
    "model3.optimal_decision_con = Constraint(Customer, Bundle, rule=optimal_decision_rule3)"
   ]
  },
  {
   "cell_type": "code",
   "execution_count": 42,
   "id": "bb4d68b5",
   "metadata": {},
   "outputs": [],
   "source": [
    "def z_zero_rule3(model3,i,k):\n",
    "    return model3.z[i,k] >= 0\n",
    "\n",
    "model3.z_zero_con = Constraint(Customer, Bundle, rule=z_zero_rule3)"
   ]
  },
  {
   "cell_type": "code",
   "execution_count": 43,
   "id": "bcbd7771",
   "metadata": {},
   "outputs": [],
   "source": [
    "def z_price_rule3(model3,i,k):\n",
    "    return model3.z[i,k] <= model3.p[k]\n",
    "model3.z_price_con = Constraint(Customer, Bundle, rule=z_price_rule3)"
   ]
  },
  {
   "cell_type": "code",
   "execution_count": 44,
   "id": "11d64e93",
   "metadata": {},
   "outputs": [],
   "source": [
    "def z_upper_rule3(model3,i,k):\n",
    "    return model3.z[i,k] <= 10000*model3.x[i,k]\n",
    "\n",
    "model3.z_upper_con = Constraint(Customer, Bundle, rule=z_upper_rule3)"
   ]
  },
  {
   "cell_type": "code",
   "execution_count": 45,
   "id": "94fb745a",
   "metadata": {},
   "outputs": [],
   "source": [
    "def z_lower_rule3(model3,i,k):\n",
    "    return model3.z[i,k] >= model3.p[k] - 10000*(1-model3.x[i,k])\n",
    "\n",
    "model3.z_lower_con = Constraint(Customer, Bundle, rule=z_lower_rule3)"
   ]
  },
  {
   "cell_type": "code",
   "execution_count": 46,
   "id": "16b2e00e",
   "metadata": {},
   "outputs": [],
   "source": [
    "opt = SolverFactory('gurobi', solver_io=\"python\").solve(model3)"
   ]
  },
  {
   "cell_type": "code",
   "execution_count": 47,
   "id": "2b5d4f61",
   "metadata": {},
   "outputs": [
    {
     "name": "stdout",
     "output_type": "stream",
     "text": [
      "The optimal price for pure bundling strategy is $120.750.\n",
      "With this price setting, we have 46 customers purchasing the pure bundle.\n",
      "The maximized revenue would be $5675.250.\n"
     ]
    }
   ],
   "source": [
    "print(\"The optimal price for pure bundling strategy is ${:.3f}.\".format(value(model3.p[0])))\n",
    "print(\"With this price setting, we have {:.0f} customers purchasing the pure bundle.\".format(sum([value(model.x[i,0]) for i in range(77)])))\n",
    "print(\"The maximized revenue would be ${:.3f}.\".format(value(model3.obj)))"
   ]
  }
 ],
 "metadata": {
  "kernelspec": {
   "display_name": "Python 3",
   "language": "python",
   "name": "python3"
  },
  "language_info": {
   "codemirror_mode": {
    "name": "ipython",
    "version": 3
   },
   "file_extension": ".py",
   "mimetype": "text/x-python",
   "name": "python",
   "nbconvert_exporter": "python",
   "pygments_lexer": "ipython3",
   "version": "3.8.8"
  }
 },
 "nbformat": 4,
 "nbformat_minor": 5
}
